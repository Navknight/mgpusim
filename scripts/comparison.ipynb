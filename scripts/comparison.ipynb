{
 "cells": [
  {
   "cell_type": "code",
   "execution_count": 1,
   "metadata": {},
   "outputs": [
    {
     "data": {
      "application/vnd.jupyter.widget-view+json": {
       "model_id": "4321069844484bd9bc536e6457257d2c",
       "version_major": 2,
       "version_minor": 0
      },
      "text/plain": [
       "Text(value='', description='Normal Path:')"
      ]
     },
     "metadata": {},
     "output_type": "display_data"
    },
    {
     "data": {
      "application/vnd.jupyter.widget-view+json": {
       "model_id": "8686452a36ee4cbab1f625123b2e5ce6",
       "version_major": 2,
       "version_minor": 0
      },
      "text/plain": [
       "Text(value='', description='Prefetch Path:')"
      ]
     },
     "metadata": {},
     "output_type": "display_data"
    },
    {
     "data": {
      "application/vnd.jupyter.widget-view+json": {
       "model_id": "585c95ed9fd043e1a0f24b366374cb62",
       "version_major": 2,
       "version_minor": 0
      },
      "text/plain": [
       "Button(description='Load Files', style=ButtonStyle())"
      ]
     },
     "metadata": {},
     "output_type": "display_data"
    },
    {
     "data": {
      "application/vnd.jupyter.widget-view+json": {
       "model_id": "d00392decee54eabb321f1b6505a94c0",
       "version_major": 2,
       "version_minor": 0
      },
      "text/plain": [
       "Dropdown(description='Metric:', options=(), value=None)"
      ]
     },
     "metadata": {},
     "output_type": "display_data"
    },
    {
     "data": {
      "application/vnd.jupyter.widget-view+json": {
       "model_id": "de86e25db767448382704b6f6f96752d",
       "version_major": 2,
       "version_minor": 0
      },
      "text/plain": [
       "Output()"
      ]
     },
     "metadata": {},
     "output_type": "display_data"
    }
   ],
   "source": [
    "import pandas as pd\n",
    "import ipywidgets as widgets\n",
    "from IPython.display import display\n",
    "\n",
    "# Function to load CSV files\n",
    "def load_csv(file_path):\n",
    "    columns = ['ID', 'Component', 'Metric', 'Value']\n",
    "    data = pd.read_csv(file_path, header=None, names=columns)\n",
    "    data['Value'] = pd.to_numeric(data['Value'], errors='coerce')\n",
    "    data = data.dropna(subset=['Value'])\n",
    "    \n",
    "    # Normalize component names (e.g., L1VCache[x] -> L1VCache, L2[x] -> L2)\n",
    "    data['Component'] = data['Component'].str.replace(r'\\[\\d+\\]', '', regex=True)\n",
    "    data['CombinedMetric'] = data['Component'] + ' - ' + data['Metric']\n",
    "    return data\n",
    "\n",
    "# Path selection widgets\n",
    "file1_path = widgets.Text(value='', description='Normal Path:')\n",
    "file2_path = widgets.Text(value='', description='Prefetch Path:')\n",
    "load_button = widgets.Button(description='Load Files')\n",
    "\n",
    "# Dropdown for metric selection\n",
    "metric_dropdown = widgets.Dropdown(options=[], description='Metric:')\n",
    "\n",
    "# Output widget\n",
    "output = widgets.Output()\n",
    "\n",
    "# Load data function\n",
    "def load_data(_):\n",
    "    output.clear_output()\n",
    "    try:\n",
    "        data1 = load_csv(file1_path.value)\n",
    "        data2 = load_csv(file2_path.value)\n",
    "        common_metrics = set(data1['CombinedMetric'].unique()).intersection(set(data2['CombinedMetric'].unique()))\n",
    "        metric_dropdown.options = sorted(common_metrics)\n",
    "    except Exception as e:\n",
    "        with output:\n",
    "            print(f\"Error loading files: {e}\")\n",
    "\n",
    "# Compute averages\n",
    "def compute_averages(metric):\n",
    "    output.clear_output()\n",
    "    try:\n",
    "        data1 = load_csv(file1_path.value)\n",
    "        data2 = load_csv(file2_path.value)\n",
    "        avg1 = data1[data1['CombinedMetric'] == metric]['Value'].mean()\n",
    "        avg2 = data2[data2['CombinedMetric'] == metric]['Value'].mean()\n",
    "        with output:\n",
    "            print(f'Average Value for {metric}:')\n",
    "            print(f'Normal: {avg1}')\n",
    "            print(f'Prefetch: {avg2}')\n",
    "    except Exception as e:\n",
    "        with output:\n",
    "            print(f\"Error calculating averages: {e}\")\n",
    "\n",
    "# Event listeners\n",
    "load_button.on_click(load_data)\n",
    "metric_dropdown.observe(lambda change: compute_averages(change['new']), names='value')\n",
    "\n",
    "# Display widgets\n",
    "display(file1_path, file2_path, load_button, metric_dropdown, output)\n"
   ]
  }
 ],
 "metadata": {
  "kernelspec": {
   "display_name": ".venv",
   "language": "python",
   "name": "python3"
  },
  "language_info": {
   "codemirror_mode": {
    "name": "ipython",
    "version": 3
   },
   "file_extension": ".py",
   "mimetype": "text/x-python",
   "name": "python",
   "nbconvert_exporter": "python",
   "pygments_lexer": "ipython3",
   "version": "3.9.18"
  }
 },
 "nbformat": 4,
 "nbformat_minor": 2
}
